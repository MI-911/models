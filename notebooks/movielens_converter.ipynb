{
 "cells": [
  {
   "cell_type": "code",
   "execution_count": 2,
   "metadata": {
    "collapsed": true,
    "pycharm": {
     "is_executing": false
    }
   },
   "outputs": [
    {
     "name": "stdout",
     "text": [
      "Ratings removed: 7751\n       userId  rating                                           title  \\\n0           1     2.5                          Dangerous Minds (1995)   \n442         1     2.5            Star Trek: The Motion Picture (1979)   \n259         1     2.0                                  Ben-Hur (1959)   \n165         1     4.0  Cinema Paradiso (Nuovo cinema Paradiso) (1989)   \n305         1     2.0                                   Gandhi (1982)   \n...       ...     ...                                             ...   \n56230     671     4.0               O Brother, Where Art Thou? (2000)   \n56267     671     4.0                            Thirteen Days (2000)   \n27737     671     4.5                           Ocean's Eleven (2001)   \n54017     671     4.0                                      JFK (1991)   \n30767     671     4.0                              Chicken Run (2000)   \n\n                                          uri  isItem  \n0      http://www.wikidata.org/entity/Q579359    True  \n442    http://www.wikidata.org/entity/Q107940    True  \n259    http://www.wikidata.org/entity/Q180098    True  \n165    http://www.wikidata.org/entity/Q464032    True  \n305    http://www.wikidata.org/entity/Q202211    True  \n...                                       ...     ...  \n56230  http://www.wikidata.org/entity/Q501874    True  \n56267  http://www.wikidata.org/entity/Q128730    True  \n27737  http://www.wikidata.org/entity/Q205447    True  \n54017  http://www.wikidata.org/entity/Q741823    True  \n30767  http://www.wikidata.org/entity/Q156401    True  \n\n[92253 rows x 5 columns]\n"
     ],
     "output_type": "stream"
    }
   ],
   "source": [
    "import json\n",
    "import os\n",
    "import pandas as pd\n",
    "import numpy as np\n",
    "\n",
    "def write_csv():\n",
    "    with open('movielens.csv', 'w') as fp:\n",
    "        fp.write(ratings.to_csv())\n",
    "\n",
    "# Load entities\n",
    "entity_labels = dict()\n",
    "entity_names = dict()\n",
    "with open('../data/mindreader/entities_clean.json', 'r') as file:\n",
    "    data = json.load(file)\n",
    "    \n",
    "    for uri, name, labels in data:\n",
    "        entity_labels[uri] = set(labels.split('|'))\n",
    "        entity_names[uri] = name\n",
    "\n",
    "# Load MovieLens ratings\n",
    "DATA_PATH = '../data'\n",
    "ml_path = os.path.join(DATA_PATH, 'movielens')\n",
    "\n",
    "# Load from CSV\n",
    "movies = pd.read_csv(f'{ml_path}/movies.csv')\n",
    "ratings = pd.read_csv(f'{ml_path}/ratings.csv')\n",
    "links = pd.read_csv(f'{ml_path}/links.csv')\n",
    "mapping = pd.read_csv(f'{ml_path}/mapping.csv')\n",
    "\n",
    "# Restrict mapping to URIs available in the KG \n",
    "uris = set(entity_names.keys())\n",
    "mapping = mapping[mapping.uri.isin(uris)]\n",
    "\n",
    "# Merge with mappings\n",
    "movies = movies.merge(links, on='movieId')\n",
    "movies.imdbId = movies.imdbId.map(lambda item: f'tt{str(item).zfill(7)}')\n",
    "movies = movies.merge(mapping, on='imdbId')\n",
    "\n",
    "# Merge ratings\n",
    "ratings_before = len(ratings)\n",
    "ratings = ratings.merge(movies, on='movieId')\n",
    "ratings['isItem'] = True\n",
    "print(f'Ratings removed: {ratings_before - len(ratings)}')\n",
    "\n",
    "# Drop stuff we don't need\n",
    "ratings.drop([\"movieId\", \"genres\", \"tmdbId\", \"imdbId\", \"timestamp\"], axis=1, inplace=True)\n",
    "ratings.sort_values(by='userId', inplace=True)\n",
    "\n",
    "print(ratings)\n",
    "\n",
    "write_csv()"
   ]
  }
 ],
 "metadata": {
  "kernelspec": {
   "display_name": "Python 3",
   "language": "python",
   "name": "python3"
  },
  "language_info": {
   "codemirror_mode": {
    "name": "ipython",
    "version": 2
   },
   "file_extension": ".py",
   "mimetype": "text/x-python",
   "name": "python",
   "nbconvert_exporter": "python",
   "pygments_lexer": "ipython2",
   "version": "2.7.6"
  },
  "pycharm": {
   "stem_cell": {
    "cell_type": "raw",
    "source": [],
    "metadata": {
     "collapsed": false
    }
   }
  }
 },
 "nbformat": 4,
 "nbformat_minor": 0
}