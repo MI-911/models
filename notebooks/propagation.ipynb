{
 "cells": [
  {
   "cell_type": "code",
   "execution_count": 1,
   "metadata": {
    "collapsed": true,
    "pycharm": {
     "is_executing": false
    }
   },
   "outputs": [
    {
     "name": "stdout",
     "text": [
      "Loading ratings\nLoading graph\n"
     ],
     "output_type": "stream"
    }
   ],
   "source": [
    "from collections import defaultdict\n",
    "import pandas as pd\n",
    "from data.graph_loader import load_graph\n",
    "import networkx as nx\n",
    "import matplotlib.pyplot as plt\n",
    "import numpy as np\n",
    "\n",
    "print(f'Loading ratings')\n",
    "mr = pd.read_csv('../data/mindreader/ratings.csv')\n",
    "\n",
    "# Remove unknown ratings\n",
    "mr = mr[mr.sentiment != 0]\n",
    "users = mr.userId.unique()\n",
    "\n",
    "# Load NX graph\n",
    "print(f'Loading graph')\n",
    "g = load_graph('../data/graph/triples.csv', directed=True)"
   ]
  },
  {
   "cell_type": "code",
   "execution_count": 4,
   "outputs": [
    {
     "name": "stdout",
     "text": [
      "Precision: 91.2625250501002%\nRecall: 83.14264849074976%\nTrue negative rate: 63.60601001669449%\nF1: 87.0135660149035%\nAccuracy: 79.63647258563867%\n"
     ],
     "output_type": "stream"
    }
   ],
   "source": [
    "def _propagate(node, preferences, preference):\n",
    "    for neighbor in g.neighbors(node):\n",
    "        preferences[neighbor].append(preference)\n",
    "        \n",
    "        # _propagate(neighbor, preferences, preference * 0.5)\n",
    "            \n",
    "def propagate(movie_preferences):\n",
    "    preferences = defaultdict(list)\n",
    "    \n",
    "    for movie, preference in movie_preferences.items():\n",
    "        _propagate(movie, preferences, preference)\n",
    "            \n",
    "    return preferences\n",
    "\n",
    "def reduce_preferences(preferences):\n",
    "    reduced = dict()\n",
    "    \n",
    "    # Reduces preferences from a list of ratings to its majority vote\n",
    "    for uri, preference_list in preferences.items():\n",
    "        mean = np.mean(preference_list)\n",
    "        variance = np.var(preference_list)\n",
    "        \n",
    "        prediction = 0 if mean == 0. or variance > 0.5 else 1 if mean > 0 else -1\n",
    "        if prediction:\n",
    "            reduced[uri] = prediction\n",
    "    \n",
    "    return reduced\n",
    "\n",
    "def infer_preferences(ratings, user):\n",
    "    user_ratings = ratings[ratings.userId == user][['uri', 'sentiment', 'isItem']]\n",
    "    entity_preferences = dict()\n",
    "    movie_preferences = dict()\n",
    "    \n",
    "    for idx, row in user_ratings[user_ratings.isItem].iterrows():\n",
    "        movie_preferences[row['uri']] = row['sentiment']\n",
    "        \n",
    "    for idx, row in user_ratings[~user_ratings.isItem].iterrows():\n",
    "        entity_preferences[row['uri']] = row['sentiment']\n",
    "    \n",
    "    return reduce_preferences(propagate(movie_preferences)), entity_preferences\n",
    "\n",
    "def predict(user):\n",
    "    res, actual = infer_preferences(mr, user)\n",
    "    overlapping = set(res.keys()).intersection(set(actual.keys()))\n",
    "    tp, fp, tn, fn = [0 for _ in range(4)]\n",
    "\n",
    "    for key in overlapping:\n",
    "        if actual[key] == 1 and res[key] == 1:\n",
    "            tp += 1\n",
    "        elif actual[key] == -1 and res[key] == 1:\n",
    "            fp += 1\n",
    "        elif actual[key] == -1 and res[key] == -1:\n",
    "            tn += 1\n",
    "        elif actual[key] == 1 and res[key] == -1:\n",
    "            fn += 1\n",
    "    \n",
    "    return tp, fp, tn, fn\n",
    "\n",
    "total_tp, total_fp, total_tn, total_fn = [0 for _ in range(4)]\n",
    "\n",
    "for user in users:\n",
    "    tp, fp, tn, fn = predict(user)\n",
    "    \n",
    "    total_tp += tp\n",
    "    total_fp += fp\n",
    "    total_tn += tn\n",
    "    total_fn += fn\n",
    "\n",
    "precision = total_tp / (total_tp + total_fp)\n",
    "recall = total_tp / (total_tp + total_fn)\n",
    "true_negative = total_tn / (total_tn + total_fp)\n",
    "accuracy = (total_tp + total_tn) / (total_tp + total_tn + total_fp + total_fn)\n",
    "f1 = (2 * precision * recall) / (precision + recall)\n",
    "\n",
    "print(f'Precision: {precision * 100}%')\n",
    "print(f'Recall: {recall * 100}%')\n",
    "print(f'True negative rate: {true_negative * 100}%')\n",
    "print(f'F1: {f1 * 100}%')\n",
    "print(f'Accuracy: {accuracy * 100}%')\n"
   ],
   "metadata": {
    "collapsed": false,
    "pycharm": {
     "name": "#%%\n",
     "is_executing": false
    }
   }
  }
 ],
 "metadata": {
  "kernelspec": {
   "display_name": "Python 3",
   "language": "python",
   "name": "python3"
  },
  "language_info": {
   "codemirror_mode": {
    "name": "ipython",
    "version": 2
   },
   "file_extension": ".py",
   "mimetype": "text/x-python",
   "name": "python",
   "nbconvert_exporter": "python",
   "pygments_lexer": "ipython2",
   "version": "2.7.6"
  },
  "pycharm": {
   "stem_cell": {
    "cell_type": "raw",
    "source": [],
    "metadata": {
     "collapsed": false
    }
   }
  }
 },
 "nbformat": 4,
 "nbformat_minor": 0
}