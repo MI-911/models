{
 "cells": [
  {
   "cell_type": "code",
   "execution_count": 29,
   "metadata": {
    "collapsed": true,
    "pycharm": {
     "is_executing": false
    }
   },
   "outputs": [
    {
     "name": "stdout",
     "text": [
      "Loading ratings\nLoading graph\n"
     ],
     "output_type": "stream"
    }
   ],
   "source": [
    "import json\n",
    "from collections import defaultdict\n",
    "\n",
    "import matplotlib.pyplot as plt\n",
    "import numpy as np\n",
    "import pandas as pd\n",
    "from tqdm import tqdm\n",
    "\n",
    "from data.graph_loader import load_graph\n",
    "%matplotlib inline\n",
    "\n",
    "print(f'Loading ratings')\n",
    "mr = pd.read_csv('movielens.csv')\n",
    "\n",
    "# Load entities\n",
    "entity_labels = dict()\n",
    "entity_names = dict()\n",
    "with open('../data/mindreader/entities_clean.json', 'r') as file:\n",
    "    data = json.load(file)\n",
    "    \n",
    "    for uri, name, labels in data:\n",
    "        entity_labels[uri] = set(labels.split('|'))\n",
    "        entity_names[uri] = name\n",
    "\n",
    "# Load NX graph\n",
    "print(f'Loading graph')\n",
    "g = load_graph('../data/graph/triples.csv', directed=True)"
   ]
  },
  {
   "cell_type": "code",
   "execution_count": 30,
   "outputs": [],
   "source": [
    "def _propagate(node, preferences, preference):\n",
    "    for neighbor in g.neighbors(node):\n",
    "        preferences[neighbor].append(preference)\n",
    "        \n",
    "        # _propagate(neighbor, preferences, preference * 0.5)\n",
    "            \n",
    "\n",
    "def propagate(movie_preferences):\n",
    "    preferences = defaultdict(list)\n",
    "    \n",
    "    for movie, preference in movie_preferences.items():\n",
    "        _propagate(movie, preferences, preference)\n",
    "            \n",
    "    return preferences\n",
    "\n",
    "\n",
    "def between(num, lower, upper):\n",
    "    return lower < num < upper\n",
    "\n",
    "\n",
    "def reduce_preferences(preferences):\n",
    "    reduced = dict()\n",
    "    \n",
    "    # Reduces preferences from a list of ratings to its majority vote\n",
    "    for uri, preference_list in preferences.items():\n",
    "        mean = np.around(np.mean(preference_list))\n",
    "        std = np.std(preference_list)\n",
    "        \n",
    "        prediction = None if between(mean, 2.5, 3.5) or std > 0.5 else mean\n",
    "        if prediction:\n",
    "            reduced[uri] = prediction\n",
    "    \n",
    "    return reduced\n",
    "\n",
    "\n",
    "def infer_preferences(ratings, user):\n",
    "    user_ratings = ratings[ratings.userId == user][['uri', 'rating', 'isItem']]\n",
    "    movie_preferences = dict()\n",
    "    \n",
    "    for idx, row in user_ratings[user_ratings.isItem].iterrows():\n",
    "        movie_preferences[row['uri']] = row['rating']\n",
    "    \n",
    "    return reduce_preferences(propagate(movie_preferences))\n",
    "\n",
    "\n",
    "def predict(user, uris=None):\n",
    "    predicted = infer_preferences(mr, user)\n",
    "    \n",
    "\n",
    "    rows = []\n",
    "    for key, rating in predicted.items():\n",
    "        rows.append([user, rating, key, False, 'N/A'])\n",
    "        \n",
    "    data = pd.DataFrame.from_dict(rows, columns={'userId', 'rating', 'uri', 'isItem', 'title'})\n",
    "    \n",
    "    print(data)\n",
    "    \n",
    "    # remember uris\n",
    "    # print(len(predicted))\n",
    "\n",
    "\n",
    "def get_metrics(df, uris=None):\n",
    "    users = df.userId.unique()\n",
    "    \n",
    "    for user in tqdm(users):\n",
    "         predict(user, uris=uris)"
   ],
   "metadata": {
    "collapsed": false,
    "pycharm": {
     "name": "#%%\n",
     "is_executing": false
    }
   }
  },
  {
   "cell_type": "code",
   "execution_count": 31,
   "outputs": [
    {
     "name": "stderr",
     "text": [
      "\n\n\n\n",
      "\r  0%|          | 0/671 [00:00<?, ?it/s]",
      "\u001b[A\u001b[A\u001b[A\u001b[A",
      "\r  0%|          | 0/671 [00:00<?, ?it/s]",
      "\n"
     ],
     "output_type": "stream"
    },
    {
     "name": "stdout",
     "text": [
      "       Unnamed: 0  userId  rating  \\\n0               0       1     2.5   \n1             442       1     2.5   \n2             259       1     2.0   \n3             165       1     4.0   \n4             305       1     2.0   \n...           ...     ...     ...   \n92248       56230     671     4.0   \n92249       56267     671     4.0   \n92250       27737     671     4.5   \n92251       54017     671     4.0   \n92252       30767     671     4.0   \n\n                                                title  \\\n0                              Dangerous Minds (1995)   \n1                Star Trek: The Motion Picture (1979)   \n2                                      Ben-Hur (1959)   \n3      Cinema Paradiso (Nuovo cinema Paradiso) (1989)   \n4                                       Gandhi (1982)   \n...                                               ...   \n92248               O Brother, Where Art Thou? (2000)   \n92249                            Thirteen Days (2000)   \n92250                           Ocean's Eleven (2001)   \n92251                                      JFK (1991)   \n92252                              Chicken Run (2000)   \n\n                                          uri  isItem  \n0      http://www.wikidata.org/entity/Q579359    True  \n1      http://www.wikidata.org/entity/Q107940    True  \n2      http://www.wikidata.org/entity/Q180098    True  \n3      http://www.wikidata.org/entity/Q464032    True  \n4      http://www.wikidata.org/entity/Q202211    True  \n...                                       ...     ...  \n92248  http://www.wikidata.org/entity/Q501874    True  \n92249  http://www.wikidata.org/entity/Q128730    True  \n92250  http://www.wikidata.org/entity/Q205447    True  \n92251  http://www.wikidata.org/entity/Q741823    True  \n92252  http://www.wikidata.org/entity/Q156401    True  \n\n[92253 rows x 6 columns]\n"
     ],
     "output_type": "stream"
    },
    {
     "traceback": [
      "\u001b[0;31m---------------------------------------------------------------------------\u001b[0m",
      "\u001b[0;31mValueError\u001b[0m                                Traceback (most recent call last)",
      "\u001b[0;32m<ipython-input-31-9443ed763679>\u001b[0m in \u001b[0;36m<module>\u001b[0;34m\u001b[0m\n\u001b[1;32m     16\u001b[0m     \u001b[0;32mreturn\u001b[0m \u001b[0;34m{\u001b[0m\u001b[0me\u001b[0m \u001b[0;32mfor\u001b[0m \u001b[0me\u001b[0m\u001b[0;34m,\u001b[0m \u001b[0ml\u001b[0m \u001b[0;32min\u001b[0m \u001b[0mentity_labels\u001b[0m\u001b[0;34m.\u001b[0m\u001b[0mitems\u001b[0m\u001b[0;34m(\u001b[0m\u001b[0;34m)\u001b[0m \u001b[0;32mif\u001b[0m \u001b[0;32mnot\u001b[0m \u001b[0mrestrict_to\u001b[0m \u001b[0;32mor\u001b[0m \u001b[0ml\u001b[0m\u001b[0;34m.\u001b[0m\u001b[0mintersection\u001b[0m\u001b[0;34m(\u001b[0m\u001b[0mrestrict_to\u001b[0m\u001b[0;34m)\u001b[0m\u001b[0;34m}\u001b[0m\u001b[0;34m\u001b[0m\u001b[0;34m\u001b[0m\u001b[0m\n\u001b[1;32m     17\u001b[0m \u001b[0;34m\u001b[0m\u001b[0m\n\u001b[0;32m---> 18\u001b[0;31m \u001b[0mget_metrics\u001b[0m\u001b[0;34m(\u001b[0m\u001b[0mmr\u001b[0m\u001b[0;34m,\u001b[0m \u001b[0mget_valid_uris\u001b[0m\u001b[0;34m(\u001b[0m\u001b[0;34m)\u001b[0m\u001b[0;34m)\u001b[0m\u001b[0;34m\u001b[0m\u001b[0;34m\u001b[0m\u001b[0m\n\u001b[0m\u001b[1;32m     19\u001b[0m \u001b[0;34m\u001b[0m\u001b[0m\n",
      "\u001b[0;32m<ipython-input-30-bddc827145fc>\u001b[0m in \u001b[0;36mget_metrics\u001b[0;34m(df, uris)\u001b[0m\n\u001b[1;32m     64\u001b[0m \u001b[0;34m\u001b[0m\u001b[0m\n\u001b[1;32m     65\u001b[0m     \u001b[0;32mfor\u001b[0m \u001b[0muser\u001b[0m \u001b[0;32min\u001b[0m \u001b[0mtqdm\u001b[0m\u001b[0;34m(\u001b[0m\u001b[0musers\u001b[0m\u001b[0;34m)\u001b[0m\u001b[0;34m:\u001b[0m\u001b[0;34m\u001b[0m\u001b[0;34m\u001b[0m\u001b[0m\n\u001b[0;32m---> 66\u001b[0;31m          \u001b[0mpredict\u001b[0m\u001b[0;34m(\u001b[0m\u001b[0muser\u001b[0m\u001b[0;34m,\u001b[0m \u001b[0muris\u001b[0m\u001b[0;34m=\u001b[0m\u001b[0muris\u001b[0m\u001b[0;34m)\u001b[0m\u001b[0;34m\u001b[0m\u001b[0;34m\u001b[0m\u001b[0m\n\u001b[0m\u001b[1;32m     67\u001b[0m \u001b[0;34m\u001b[0m\u001b[0m\n",
      "\u001b[0;32m<ipython-input-30-bddc827145fc>\u001b[0m in \u001b[0;36mpredict\u001b[0;34m(user, uris)\u001b[0m\n\u001b[1;32m     52\u001b[0m         \u001b[0mrows\u001b[0m\u001b[0;34m.\u001b[0m\u001b[0mappend\u001b[0m\u001b[0;34m(\u001b[0m\u001b[0;34m[\u001b[0m\u001b[0muser\u001b[0m\u001b[0;34m,\u001b[0m \u001b[0mrating\u001b[0m\u001b[0;34m,\u001b[0m \u001b[0mkey\u001b[0m\u001b[0;34m,\u001b[0m \u001b[0;32mFalse\u001b[0m\u001b[0;34m,\u001b[0m \u001b[0;34m'N/A'\u001b[0m\u001b[0;34m]\u001b[0m\u001b[0;34m)\u001b[0m\u001b[0;34m\u001b[0m\u001b[0;34m\u001b[0m\u001b[0m\n\u001b[1;32m     53\u001b[0m \u001b[0;34m\u001b[0m\u001b[0m\n\u001b[0;32m---> 54\u001b[0;31m     \u001b[0mdata\u001b[0m \u001b[0;34m=\u001b[0m \u001b[0mpd\u001b[0m\u001b[0;34m.\u001b[0m\u001b[0mDataFrame\u001b[0m\u001b[0;34m.\u001b[0m\u001b[0mfrom_dict\u001b[0m\u001b[0;34m(\u001b[0m\u001b[0mrows\u001b[0m\u001b[0;34m,\u001b[0m \u001b[0mcolumns\u001b[0m\u001b[0;34m=\u001b[0m\u001b[0;34m{\u001b[0m\u001b[0;34m'userId'\u001b[0m\u001b[0;34m,\u001b[0m \u001b[0;34m'rating'\u001b[0m\u001b[0;34m,\u001b[0m \u001b[0;34m'uri'\u001b[0m\u001b[0;34m,\u001b[0m \u001b[0;34m'isItem'\u001b[0m\u001b[0;34m,\u001b[0m \u001b[0;34m'title'\u001b[0m\u001b[0;34m}\u001b[0m\u001b[0;34m)\u001b[0m\u001b[0;34m\u001b[0m\u001b[0;34m\u001b[0m\u001b[0m\n\u001b[0m\u001b[1;32m     55\u001b[0m \u001b[0;34m\u001b[0m\u001b[0m\n\u001b[1;32m     56\u001b[0m     \u001b[0mprint\u001b[0m\u001b[0;34m(\u001b[0m\u001b[0mdata\u001b[0m\u001b[0;34m)\u001b[0m\u001b[0;34m\u001b[0m\u001b[0;34m\u001b[0m\u001b[0m\n",
      "\u001b[0;32m~/Code/models/venv/lib/python3.7/site-packages/pandas/core/frame.py\u001b[0m in \u001b[0;36mfrom_dict\u001b[0;34m(cls, data, orient, dtype, columns)\u001b[0m\n\u001b[1;32m   1198\u001b[0m             \u001b[0;32mif\u001b[0m \u001b[0mcolumns\u001b[0m \u001b[0;32mis\u001b[0m \u001b[0;32mnot\u001b[0m \u001b[0;32mNone\u001b[0m\u001b[0;34m:\u001b[0m\u001b[0;34m\u001b[0m\u001b[0;34m\u001b[0m\u001b[0m\n\u001b[1;32m   1199\u001b[0m                 raise ValueError(\n\u001b[0;32m-> 1200\u001b[0;31m                     \u001b[0;34m\"cannot use columns parameter with \"\u001b[0m \u001b[0;34m\"orient='columns'\"\u001b[0m\u001b[0;34m\u001b[0m\u001b[0;34m\u001b[0m\u001b[0m\n\u001b[0m\u001b[1;32m   1201\u001b[0m                 )\n\u001b[1;32m   1202\u001b[0m         \u001b[0;32melse\u001b[0m\u001b[0;34m:\u001b[0m  \u001b[0;31m# pragma: no cover\u001b[0m\u001b[0;34m\u001b[0m\u001b[0;34m\u001b[0m\u001b[0m\n",
      "\u001b[0;31mValueError\u001b[0m: cannot use columns parameter with orient='columns'"
     ],
     "ename": "ValueError",
     "evalue": "cannot use columns parameter with orient='columns'",
     "output_type": "error"
    }
   ],
   "source": [
    "print(mr)\n",
    "splits = {\n",
    "    'All': None,\n",
    "    'Genre': {'Genre'},\n",
    "    'Subject': {'Subject'},\n",
    "    'Actor': {'Actor'},\n",
    "    'Director': {'Director'},\n",
    "    'Studio': {'Company'},\n",
    "    'Decade': {'Decade'}\n",
    "}\n",
    "\n",
    "def get_valid_uris(restrict_to=None):\n",
    "    if not restrict_to:\n",
    "        return set(entity_labels.keys())\n",
    "    \n",
    "    return {e for e, l in entity_labels.items() if not restrict_to or l.intersection(restrict_to)}\n",
    "\n",
    "get_metrics(mr, get_valid_uris())\n"
   ],
   "metadata": {
    "collapsed": false,
    "pycharm": {
     "name": "#%%\n",
     "is_executing": false
    }
   }
  }
 ],
 "metadata": {
  "kernelspec": {
   "display_name": "Python 3",
   "language": "python",
   "name": "python3"
  },
  "language_info": {
   "codemirror_mode": {
    "name": "ipython",
    "version": 2
   },
   "file_extension": ".py",
   "mimetype": "text/x-python",
   "name": "python",
   "nbconvert_exporter": "python",
   "pygments_lexer": "ipython2",
   "version": "2.7.6"
  },
  "pycharm": {
   "stem_cell": {
    "cell_type": "raw",
    "source": [],
    "metadata": {
     "collapsed": false
    }
   }
  }
 },
 "nbformat": 4,
 "nbformat_minor": 0
}