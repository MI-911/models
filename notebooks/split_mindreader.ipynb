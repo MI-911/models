{
 "cells": [
  {
   "cell_type": "code",
   "execution_count": 47,
   "metadata": {
    "collapsed": true,
    "pycharm": {
     "is_executing": false
    }
   },
   "outputs": [
    {
     "name": "stderr",
     "text": [
      "warning: PYDEVD_USE_CYTHON environment variable is set to 'NO'. Frame evaluator will be also disabled because it requires Cython extensions to be enabled in order to operate correctly.\n"
     ],
     "output_type": "stream"
    },
    {
     "name": "stdout",
     "text": [
      "              Unnamed: 0  Unnamed: 0.1  userId   uri  isItem\nuserId                                                      \n0      19419       19419         19419       0  2339    True\n1      19832       19832         19832       1  2272    True\n2      73158       73158         73158       2   927    True\n3      77023       77023         77023       3  1939    True\n4      850           850           850       4  1533    True\n...                  ...           ...     ...   ...     ...\n845    46213       46213         46213     845   744    True\n846    41469       41469         41469     846  1177    True\n847    36764       36764         36764     847   857    True\n848    26189       26189         26189     848  1786    True\n849    35885       35885         35885     849   536    True\n\n[850 rows x 5 columns]\n"
     ],
     "output_type": "stream"
    }
   ],
   "source": [
    "import pandas as pd\n",
    "import numpy as np\n",
    "\n",
    "rand = np.random.RandomState(42)\n",
    "num_negatives = 100\n",
    "\n",
    "def write_ratings(file, df):\n",
    "    with open(file, 'w') as fp:\n",
    "        for index, row in df.iterrows():\n",
    "            fp.write(f'{row.userId}\\t{row.uri}\\t{1.0}\\n')\n",
    "\n",
    "def write_negatives(file, test_df, main_df):\n",
    "    with open(file, 'w') as fp:\n",
    "        for index, row in test_df.iterrows():\n",
    "            seen_uris = set(main_df[main_df.userId == row.userId].uri)\n",
    "            seen_uris.add(row.uri)\n",
    "            \n",
    "            negatives = main_df[~main_df.uri.isin(seen_uris)].uri\n",
    "    \n",
    "            sampled = '\\t'.join([str(sample) for sample in rand.choice(negatives, num_negatives)])\n",
    "            \n",
    "            fp.write(f'({row.userId},{row.uri})\\t{sampled}\\n')\n",
    "\n",
    "mr = pd.read_csv('../data/mindreader/ratings.csv')\n",
    "\n",
    "# Remove unknown ratings\n",
    "mr = mr[(mr.sentiment != 0) & mr.isItem]\n",
    "mr.drop('sentiment', axis=1, inplace=True)\n",
    "\n",
    "for col in ('uri', 'userId'):\n",
    "    mr[col] = mr[col].astype('category')\n",
    "\n",
    "columns = mr.select_dtypes(['category']).columns\n",
    "mr[columns] = mr[columns].apply(lambda x: x.cat.codes)\n",
    "\n",
    "test = mr.groupby('userId').apply(lambda df: df.sample(1))\n",
    "print(test)\n",
    "train = mr.drop(test.index)\n",
    "print(train)\n",
    "\n",
    "write_ratings('ml-1m.train.rating', train)\n",
    "write_ratings('ml-1m.test.rating', test)\n",
    "write_negatives('ml-1m.test.negative', test, mr)\n",
    "\n",
    "print('So slow')"
   ]
  }
 ],
 "metadata": {
  "kernelspec": {
   "display_name": "Python 3",
   "language": "python",
   "name": "python3"
  },
  "language_info": {
   "codemirror_mode": {
    "name": "ipython",
    "version": 2
   },
   "file_extension": ".py",
   "mimetype": "text/x-python",
   "name": "python",
   "nbconvert_exporter": "python",
   "pygments_lexer": "ipython2",
   "version": "2.7.6"
  },
  "pycharm": {
   "stem_cell": {
    "cell_type": "raw",
    "source": [],
    "metadata": {
     "collapsed": false
    }
   }
  }
 },
 "nbformat": 4,
 "nbformat_minor": 0
}