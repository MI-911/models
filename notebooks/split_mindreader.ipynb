{
 "cells": [
  {
   "cell_type": "code",
   "execution_count": 73,
   "metadata": {
    "collapsed": true,
    "pycharm": {
     "is_executing": false
    }
   },
   "outputs": [
    {
     "name": "stdout",
     "text": [
      "So slow\n"
     ],
     "output_type": "stream"
    }
   ],
   "source": [
    "import pandas as pd\n",
    "import numpy as np\n",
    "\n",
    "rand = np.random.RandomState(42)\n",
    "num_negatives = 100\n",
    "\n",
    "def write_ratings(file, df):\n",
    "    with open(file, 'w') as fp:\n",
    "        for index, row in df.iterrows():\n",
    "            fp.write(f'{row.userId}\\t{row.uri}\\t{1.0}\\n')\n",
    "\n",
    "def write_negatives(file, test_df, main_df):\n",
    "    with open(file, 'w') as fp:\n",
    "        for index, row in test_df.iterrows():\n",
    "            seen_uris = set(main_df[main_df.userId == row.userId].uri)\n",
    "            seen_uris.add(row.uri)\n",
    "            \n",
    "            negatives = main_df[~main_df.uri.isin(seen_uris)].uri\n",
    "    \n",
    "            sampled = '\\t'.join([str(sample) for sample in rand.choice(negatives, num_negatives)])\n",
    "            \n",
    "            fp.write(f'({row.userId},{row.uri})\\t{sampled}\\n')\n",
    "\n",
    "mr = pd.read_csv('../data/mindreader/ratings.csv')\n",
    "\n",
    "# Remove unknown ratings\n",
    "mr = mr[(mr.sentiment != 0) & mr.isItem]\n",
    "mr.drop('sentiment', axis=1, inplace=True)\n",
    "\n",
    "for col in ('uri', 'userId'):\n",
    "    mr[col] = mr[col].astype('category')\n",
    "\n",
    "columns = mr.select_dtypes(['category']).columns\n",
    "mr[columns] = mr[columns].apply(lambda x: x.cat.codes)\n",
    "\n",
    "test = mr.groupby('userId').apply(lambda df: df.sample(1)).reset_index(drop=True)\n",
    "train = mr.merge(test, on=['uri', 'userId'], how='left')\n",
    "\n",
    "write_ratings('ml-1m.train.rating', train)\n",
    "write_ratings('ml-1m.test.rating', test)\n",
    "write_negatives('ml-1m.test.negative', test, mr)\n",
    "\n",
    "print('So slow')"
   ]
  }
 ],
 "metadata": {
  "kernelspec": {
   "display_name": "Python 3",
   "language": "python",
   "name": "python3"
  },
  "language_info": {
   "codemirror_mode": {
    "name": "ipython",
    "version": 2
   },
   "file_extension": ".py",
   "mimetype": "text/x-python",
   "name": "python",
   "nbconvert_exporter": "python",
   "pygments_lexer": "ipython2",
   "version": "2.7.6"
  },
  "pycharm": {
   "stem_cell": {
    "cell_type": "raw",
    "source": [],
    "metadata": {
     "collapsed": false
    }
   }
  }
 },
 "nbformat": 4,
 "nbformat_minor": 0
}