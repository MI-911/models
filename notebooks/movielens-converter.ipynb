{
 "cells": [
  {
   "cell_type": "code",
   "execution_count": 3,
   "metadata": {
    "collapsed": true,
    "pycharm": {
     "is_executing": false
    }
   },
   "outputs": [
    {
     "name": "stdout",
     "text": [
      "4940\n"
     ],
     "output_type": "stream"
    }
   ],
   "source": [
    "import json\n",
    "import os\n",
    "import pandas as pd\n",
    "\n",
    "# Load entities\n",
    "entity_labels = dict()\n",
    "entity_names = dict()\n",
    "with open('../data/mindreader/entities_clean.json', 'r') as file:\n",
    "    data = json.load(file)\n",
    "    \n",
    "    for uri, name, labels in data:\n",
    "        entity_labels[uri] = set(labels.split('|'))\n",
    "        entity_names[uri] = name\n",
    "\n",
    "# Load MovieLens ratings\n",
    "DATA_PATH = '../data'\n",
    "ml_path = os.path.join(DATA_PATH, 'movielens')\n",
    "\n",
    "# Load from CSV\n",
    "movies = pd.read_csv(f'{ml_path}/movies.csv')\n",
    "ratings = pd.read_csv(f'{ml_path}/ratings.csv')\n",
    "links = pd.read_csv(f'{ml_path}/links.csv')\n",
    "mapping = pd.read_csv(f'{ml_path}/mapping.csv')\n",
    "\n",
    "# Restrict mapping to URIs available in the KG \n",
    "uris = set(entity_names.keys())\n",
    "mapping = mapping[mapping.uri.isin(uris)]\n",
    "print(len(mapping))"
   ]
  }
 ],
 "metadata": {
  "kernelspec": {
   "display_name": "Python 3",
   "language": "python",
   "name": "python3"
  },
  "language_info": {
   "codemirror_mode": {
    "name": "ipython",
    "version": 2
   },
   "file_extension": ".py",
   "mimetype": "text/x-python",
   "name": "python",
   "nbconvert_exporter": "python",
   "pygments_lexer": "ipython2",
   "version": "2.7.6"
  },
  "pycharm": {
   "stem_cell": {
    "cell_type": "raw",
    "source": [],
    "metadata": {
     "collapsed": false
    }
   }
  }
 },
 "nbformat": 4,
 "nbformat_minor": 0
}